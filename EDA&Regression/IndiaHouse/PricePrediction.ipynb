{
 "cells": [
  {
   "cell_type": "code",
   "execution_count": 1,
   "id": "7862e5c1",
   "metadata": {},
   "outputs": [],
   "source": [
    "import pandas as pd\n",
    "import seaborn as sns\n",
    "import numpy as np\n",
    "from sklearn import linear_model\n",
    "import matplotlib.pyplot as plt\n",
    "from sklearn.preprocessing import StandardScaler\n",
    "scale = StandardScaler()\n",
    "from sklearn.model_selection import train_test_split\n",
    "import statsmodels.api as sm"
   ]
  },
  {
   "cell_type": "code",
   "execution_count": 2,
   "id": "2302b2ac",
   "metadata": {},
   "outputs": [],
   "source": [
    "data = pd.read_csv(\"train.csv\")"
   ]
  },
  {
   "cell_type": "code",
   "execution_count": 3,
   "id": "7f49c04c",
   "metadata": {},
   "outputs": [
    {
     "data": {
      "text/html": [
       "<div>\n",
       "<style scoped>\n",
       "    .dataframe tbody tr th:only-of-type {\n",
       "        vertical-align: middle;\n",
       "    }\n",
       "\n",
       "    .dataframe tbody tr th {\n",
       "        vertical-align: top;\n",
       "    }\n",
       "\n",
       "    .dataframe thead th {\n",
       "        text-align: right;\n",
       "    }\n",
       "</style>\n",
       "<table border=\"1\" class=\"dataframe\">\n",
       "  <thead>\n",
       "    <tr style=\"text-align: right;\">\n",
       "      <th></th>\n",
       "      <th>POSTED_BY</th>\n",
       "      <th>UNDER_CONSTRUCTION</th>\n",
       "      <th>RERA</th>\n",
       "      <th>BHK_NO.</th>\n",
       "      <th>BHK_OR_RK</th>\n",
       "      <th>SQUARE_FT</th>\n",
       "      <th>READY_TO_MOVE</th>\n",
       "      <th>RESALE</th>\n",
       "      <th>ADDRESS</th>\n",
       "      <th>LONGITUDE</th>\n",
       "      <th>LATITUDE</th>\n",
       "      <th>TARGET(PRICE_IN_LACS)</th>\n",
       "    </tr>\n",
       "  </thead>\n",
       "  <tbody>\n",
       "    <tr>\n",
       "      <th>0</th>\n",
       "      <td>Owner</td>\n",
       "      <td>0</td>\n",
       "      <td>0</td>\n",
       "      <td>2</td>\n",
       "      <td>BHK</td>\n",
       "      <td>1300.236407</td>\n",
       "      <td>1</td>\n",
       "      <td>1</td>\n",
       "      <td>Ksfc Layout,Bangalore</td>\n",
       "      <td>12.969910</td>\n",
       "      <td>77.597960</td>\n",
       "      <td>55.0</td>\n",
       "    </tr>\n",
       "    <tr>\n",
       "      <th>1</th>\n",
       "      <td>Dealer</td>\n",
       "      <td>0</td>\n",
       "      <td>0</td>\n",
       "      <td>2</td>\n",
       "      <td>BHK</td>\n",
       "      <td>1275.000000</td>\n",
       "      <td>1</td>\n",
       "      <td>1</td>\n",
       "      <td>Vishweshwara Nagar,Mysore</td>\n",
       "      <td>12.274538</td>\n",
       "      <td>76.644605</td>\n",
       "      <td>51.0</td>\n",
       "    </tr>\n",
       "    <tr>\n",
       "      <th>2</th>\n",
       "      <td>Owner</td>\n",
       "      <td>0</td>\n",
       "      <td>0</td>\n",
       "      <td>2</td>\n",
       "      <td>BHK</td>\n",
       "      <td>933.159722</td>\n",
       "      <td>1</td>\n",
       "      <td>1</td>\n",
       "      <td>Jigani,Bangalore</td>\n",
       "      <td>12.778033</td>\n",
       "      <td>77.632191</td>\n",
       "      <td>43.0</td>\n",
       "    </tr>\n",
       "    <tr>\n",
       "      <th>3</th>\n",
       "      <td>Owner</td>\n",
       "      <td>0</td>\n",
       "      <td>1</td>\n",
       "      <td>2</td>\n",
       "      <td>BHK</td>\n",
       "      <td>929.921143</td>\n",
       "      <td>1</td>\n",
       "      <td>1</td>\n",
       "      <td>Sector-1 Vaishali,Ghaziabad</td>\n",
       "      <td>28.642300</td>\n",
       "      <td>77.344500</td>\n",
       "      <td>62.5</td>\n",
       "    </tr>\n",
       "    <tr>\n",
       "      <th>4</th>\n",
       "      <td>Dealer</td>\n",
       "      <td>1</td>\n",
       "      <td>0</td>\n",
       "      <td>2</td>\n",
       "      <td>BHK</td>\n",
       "      <td>999.009247</td>\n",
       "      <td>0</td>\n",
       "      <td>1</td>\n",
       "      <td>New Town,Kolkata</td>\n",
       "      <td>22.592200</td>\n",
       "      <td>88.484911</td>\n",
       "      <td>60.5</td>\n",
       "    </tr>\n",
       "  </tbody>\n",
       "</table>\n",
       "</div>"
      ],
      "text/plain": [
       "  POSTED_BY  UNDER_CONSTRUCTION  RERA  BHK_NO. BHK_OR_RK    SQUARE_FT  \\\n",
       "0     Owner                   0     0        2       BHK  1300.236407   \n",
       "1    Dealer                   0     0        2       BHK  1275.000000   \n",
       "2     Owner                   0     0        2       BHK   933.159722   \n",
       "3     Owner                   0     1        2       BHK   929.921143   \n",
       "4    Dealer                   1     0        2       BHK   999.009247   \n",
       "\n",
       "   READY_TO_MOVE  RESALE                      ADDRESS  LONGITUDE   LATITUDE  \\\n",
       "0              1       1        Ksfc Layout,Bangalore  12.969910  77.597960   \n",
       "1              1       1    Vishweshwara Nagar,Mysore  12.274538  76.644605   \n",
       "2              1       1             Jigani,Bangalore  12.778033  77.632191   \n",
       "3              1       1  Sector-1 Vaishali,Ghaziabad  28.642300  77.344500   \n",
       "4              0       1             New Town,Kolkata  22.592200  88.484911   \n",
       "\n",
       "   TARGET(PRICE_IN_LACS)  \n",
       "0                   55.0  \n",
       "1                   51.0  \n",
       "2                   43.0  \n",
       "3                   62.5  \n",
       "4                   60.5  "
      ]
     },
     "execution_count": 3,
     "metadata": {},
     "output_type": "execute_result"
    }
   ],
   "source": [
    "data.head()"
   ]
  },
  {
   "cell_type": "code",
   "execution_count": 4,
   "id": "00938743",
   "metadata": {},
   "outputs": [
    {
     "data": {
      "text/html": [
       "<div>\n",
       "<style scoped>\n",
       "    .dataframe tbody tr th:only-of-type {\n",
       "        vertical-align: middle;\n",
       "    }\n",
       "\n",
       "    .dataframe tbody tr th {\n",
       "        vertical-align: top;\n",
       "    }\n",
       "\n",
       "    .dataframe thead th {\n",
       "        text-align: right;\n",
       "    }\n",
       "</style>\n",
       "<table border=\"1\" class=\"dataframe\">\n",
       "  <thead>\n",
       "    <tr style=\"text-align: right;\">\n",
       "      <th></th>\n",
       "      <th>UNDER_CONSTRUCTION</th>\n",
       "      <th>RERA</th>\n",
       "      <th>BHK_NO.</th>\n",
       "      <th>SQUARE_FT</th>\n",
       "      <th>READY_TO_MOVE</th>\n",
       "      <th>RESALE</th>\n",
       "      <th>LONGITUDE</th>\n",
       "      <th>LATITUDE</th>\n",
       "      <th>TARGET(PRICE_IN_LACS)</th>\n",
       "    </tr>\n",
       "  </thead>\n",
       "  <tbody>\n",
       "    <tr>\n",
       "      <th>count</th>\n",
       "      <td>29451.000000</td>\n",
       "      <td>29451.000000</td>\n",
       "      <td>29451.000000</td>\n",
       "      <td>2.945100e+04</td>\n",
       "      <td>29451.000000</td>\n",
       "      <td>29451.000000</td>\n",
       "      <td>29451.000000</td>\n",
       "      <td>29451.000000</td>\n",
       "      <td>29451.000000</td>\n",
       "    </tr>\n",
       "    <tr>\n",
       "      <th>mean</th>\n",
       "      <td>0.179756</td>\n",
       "      <td>0.317918</td>\n",
       "      <td>2.392279</td>\n",
       "      <td>1.980217e+04</td>\n",
       "      <td>0.820244</td>\n",
       "      <td>0.929578</td>\n",
       "      <td>21.300255</td>\n",
       "      <td>76.837695</td>\n",
       "      <td>142.898746</td>\n",
       "    </tr>\n",
       "    <tr>\n",
       "      <th>std</th>\n",
       "      <td>0.383991</td>\n",
       "      <td>0.465675</td>\n",
       "      <td>0.879091</td>\n",
       "      <td>1.901335e+06</td>\n",
       "      <td>0.383991</td>\n",
       "      <td>0.255861</td>\n",
       "      <td>6.205306</td>\n",
       "      <td>10.557747</td>\n",
       "      <td>656.880713</td>\n",
       "    </tr>\n",
       "    <tr>\n",
       "      <th>min</th>\n",
       "      <td>0.000000</td>\n",
       "      <td>0.000000</td>\n",
       "      <td>1.000000</td>\n",
       "      <td>3.000000e+00</td>\n",
       "      <td>0.000000</td>\n",
       "      <td>0.000000</td>\n",
       "      <td>-37.713008</td>\n",
       "      <td>-121.761248</td>\n",
       "      <td>0.250000</td>\n",
       "    </tr>\n",
       "    <tr>\n",
       "      <th>25%</th>\n",
       "      <td>0.000000</td>\n",
       "      <td>0.000000</td>\n",
       "      <td>2.000000</td>\n",
       "      <td>9.000211e+02</td>\n",
       "      <td>1.000000</td>\n",
       "      <td>1.000000</td>\n",
       "      <td>18.452663</td>\n",
       "      <td>73.798100</td>\n",
       "      <td>38.000000</td>\n",
       "    </tr>\n",
       "    <tr>\n",
       "      <th>50%</th>\n",
       "      <td>0.000000</td>\n",
       "      <td>0.000000</td>\n",
       "      <td>2.000000</td>\n",
       "      <td>1.175057e+03</td>\n",
       "      <td>1.000000</td>\n",
       "      <td>1.000000</td>\n",
       "      <td>20.750000</td>\n",
       "      <td>77.324137</td>\n",
       "      <td>62.000000</td>\n",
       "    </tr>\n",
       "    <tr>\n",
       "      <th>75%</th>\n",
       "      <td>0.000000</td>\n",
       "      <td>1.000000</td>\n",
       "      <td>3.000000</td>\n",
       "      <td>1.550688e+03</td>\n",
       "      <td>1.000000</td>\n",
       "      <td>1.000000</td>\n",
       "      <td>26.900926</td>\n",
       "      <td>77.828740</td>\n",
       "      <td>100.000000</td>\n",
       "    </tr>\n",
       "    <tr>\n",
       "      <th>max</th>\n",
       "      <td>1.000000</td>\n",
       "      <td>1.000000</td>\n",
       "      <td>20.000000</td>\n",
       "      <td>2.545455e+08</td>\n",
       "      <td>1.000000</td>\n",
       "      <td>1.000000</td>\n",
       "      <td>59.912884</td>\n",
       "      <td>152.962676</td>\n",
       "      <td>30000.000000</td>\n",
       "    </tr>\n",
       "  </tbody>\n",
       "</table>\n",
       "</div>"
      ],
      "text/plain": [
       "       UNDER_CONSTRUCTION          RERA       BHK_NO.     SQUARE_FT  \\\n",
       "count        29451.000000  29451.000000  29451.000000  2.945100e+04   \n",
       "mean             0.179756      0.317918      2.392279  1.980217e+04   \n",
       "std              0.383991      0.465675      0.879091  1.901335e+06   \n",
       "min              0.000000      0.000000      1.000000  3.000000e+00   \n",
       "25%              0.000000      0.000000      2.000000  9.000211e+02   \n",
       "50%              0.000000      0.000000      2.000000  1.175057e+03   \n",
       "75%              0.000000      1.000000      3.000000  1.550688e+03   \n",
       "max              1.000000      1.000000     20.000000  2.545455e+08   \n",
       "\n",
       "       READY_TO_MOVE        RESALE     LONGITUDE      LATITUDE  \\\n",
       "count   29451.000000  29451.000000  29451.000000  29451.000000   \n",
       "mean        0.820244      0.929578     21.300255     76.837695   \n",
       "std         0.383991      0.255861      6.205306     10.557747   \n",
       "min         0.000000      0.000000    -37.713008   -121.761248   \n",
       "25%         1.000000      1.000000     18.452663     73.798100   \n",
       "50%         1.000000      1.000000     20.750000     77.324137   \n",
       "75%         1.000000      1.000000     26.900926     77.828740   \n",
       "max         1.000000      1.000000     59.912884    152.962676   \n",
       "\n",
       "       TARGET(PRICE_IN_LACS)  \n",
       "count           29451.000000  \n",
       "mean              142.898746  \n",
       "std               656.880713  \n",
       "min                 0.250000  \n",
       "25%                38.000000  \n",
       "50%                62.000000  \n",
       "75%               100.000000  \n",
       "max             30000.000000  "
      ]
     },
     "execution_count": 4,
     "metadata": {},
     "output_type": "execute_result"
    }
   ],
   "source": [
    "data.describe()"
   ]
  },
  {
   "cell_type": "code",
   "execution_count": 5,
   "id": "5a604361",
   "metadata": {},
   "outputs": [
    {
     "data": {
      "text/html": [
       "<div>\n",
       "<style scoped>\n",
       "    .dataframe tbody tr th:only-of-type {\n",
       "        vertical-align: middle;\n",
       "    }\n",
       "\n",
       "    .dataframe tbody tr th {\n",
       "        vertical-align: top;\n",
       "    }\n",
       "\n",
       "    .dataframe thead th {\n",
       "        text-align: right;\n",
       "    }\n",
       "</style>\n",
       "<table border=\"1\" class=\"dataframe\">\n",
       "  <thead>\n",
       "    <tr style=\"text-align: right;\">\n",
       "      <th></th>\n",
       "      <th>UNDER_CONSTRUCTION</th>\n",
       "      <th>RERA</th>\n",
       "      <th>BHK_NO.</th>\n",
       "      <th>SQUARE_FT</th>\n",
       "      <th>READY_TO_MOVE</th>\n",
       "      <th>RESALE</th>\n",
       "      <th>LONGITUDE</th>\n",
       "      <th>LATITUDE</th>\n",
       "      <th>TARGET(PRICE_IN_LACS)</th>\n",
       "    </tr>\n",
       "  </thead>\n",
       "  <tbody>\n",
       "    <tr>\n",
       "      <th>UNDER_CONSTRUCTION</th>\n",
       "      <td>1.000000</td>\n",
       "      <td>0.363826</td>\n",
       "      <td>-0.040712</td>\n",
       "      <td>-0.004204</td>\n",
       "      <td>-1.000000</td>\n",
       "      <td>-0.347405</td>\n",
       "      <td>0.006440</td>\n",
       "      <td>-0.000381</td>\n",
       "      <td>0.055399</td>\n",
       "    </tr>\n",
       "    <tr>\n",
       "      <th>RERA</th>\n",
       "      <td>0.363826</td>\n",
       "      <td>1.000000</td>\n",
       "      <td>0.009547</td>\n",
       "      <td>-0.006229</td>\n",
       "      <td>-0.363826</td>\n",
       "      <td>-0.270351</td>\n",
       "      <td>0.104976</td>\n",
       "      <td>-0.065106</td>\n",
       "      <td>0.067636</td>\n",
       "    </tr>\n",
       "    <tr>\n",
       "      <th>BHK_NO.</th>\n",
       "      <td>-0.040712</td>\n",
       "      <td>0.009547</td>\n",
       "      <td>1.000000</td>\n",
       "      <td>0.005303</td>\n",
       "      <td>0.040712</td>\n",
       "      <td>0.014581</td>\n",
       "      <td>0.068730</td>\n",
       "      <td>0.046930</td>\n",
       "      <td>0.112283</td>\n",
       "    </tr>\n",
       "    <tr>\n",
       "      <th>SQUARE_FT</th>\n",
       "      <td>-0.004204</td>\n",
       "      <td>-0.006229</td>\n",
       "      <td>0.005303</td>\n",
       "      <td>1.000000</td>\n",
       "      <td>0.004204</td>\n",
       "      <td>0.001732</td>\n",
       "      <td>-0.012591</td>\n",
       "      <td>0.000803</td>\n",
       "      <td>0.402685</td>\n",
       "    </tr>\n",
       "    <tr>\n",
       "      <th>READY_TO_MOVE</th>\n",
       "      <td>-1.000000</td>\n",
       "      <td>-0.363826</td>\n",
       "      <td>0.040712</td>\n",
       "      <td>0.004204</td>\n",
       "      <td>1.000000</td>\n",
       "      <td>0.347405</td>\n",
       "      <td>-0.006440</td>\n",
       "      <td>0.000381</td>\n",
       "      <td>-0.055399</td>\n",
       "    </tr>\n",
       "    <tr>\n",
       "      <th>RESALE</th>\n",
       "      <td>-0.347405</td>\n",
       "      <td>-0.270351</td>\n",
       "      <td>0.014581</td>\n",
       "      <td>0.001732</td>\n",
       "      <td>0.347405</td>\n",
       "      <td>1.000000</td>\n",
       "      <td>0.024038</td>\n",
       "      <td>0.014844</td>\n",
       "      <td>-0.207378</td>\n",
       "    </tr>\n",
       "    <tr>\n",
       "      <th>LONGITUDE</th>\n",
       "      <td>0.006440</td>\n",
       "      <td>0.104976</td>\n",
       "      <td>0.068730</td>\n",
       "      <td>-0.012591</td>\n",
       "      <td>-0.006440</td>\n",
       "      <td>0.024038</td>\n",
       "      <td>1.000000</td>\n",
       "      <td>-0.155062</td>\n",
       "      <td>-0.031112</td>\n",
       "    </tr>\n",
       "    <tr>\n",
       "      <th>LATITUDE</th>\n",
       "      <td>-0.000381</td>\n",
       "      <td>-0.065106</td>\n",
       "      <td>0.046930</td>\n",
       "      <td>0.000803</td>\n",
       "      <td>0.000381</td>\n",
       "      <td>0.014844</td>\n",
       "      <td>-0.155062</td>\n",
       "      <td>1.000000</td>\n",
       "      <td>-0.017254</td>\n",
       "    </tr>\n",
       "    <tr>\n",
       "      <th>TARGET(PRICE_IN_LACS)</th>\n",
       "      <td>0.055399</td>\n",
       "      <td>0.067636</td>\n",
       "      <td>0.112283</td>\n",
       "      <td>0.402685</td>\n",
       "      <td>-0.055399</td>\n",
       "      <td>-0.207378</td>\n",
       "      <td>-0.031112</td>\n",
       "      <td>-0.017254</td>\n",
       "      <td>1.000000</td>\n",
       "    </tr>\n",
       "  </tbody>\n",
       "</table>\n",
       "</div>"
      ],
      "text/plain": [
       "                       UNDER_CONSTRUCTION      RERA   BHK_NO.  SQUARE_FT  \\\n",
       "UNDER_CONSTRUCTION               1.000000  0.363826 -0.040712  -0.004204   \n",
       "RERA                             0.363826  1.000000  0.009547  -0.006229   \n",
       "BHK_NO.                         -0.040712  0.009547  1.000000   0.005303   \n",
       "SQUARE_FT                       -0.004204 -0.006229  0.005303   1.000000   \n",
       "READY_TO_MOVE                   -1.000000 -0.363826  0.040712   0.004204   \n",
       "RESALE                          -0.347405 -0.270351  0.014581   0.001732   \n",
       "LONGITUDE                        0.006440  0.104976  0.068730  -0.012591   \n",
       "LATITUDE                        -0.000381 -0.065106  0.046930   0.000803   \n",
       "TARGET(PRICE_IN_LACS)            0.055399  0.067636  0.112283   0.402685   \n",
       "\n",
       "                       READY_TO_MOVE    RESALE  LONGITUDE  LATITUDE  \\\n",
       "UNDER_CONSTRUCTION         -1.000000 -0.347405   0.006440 -0.000381   \n",
       "RERA                       -0.363826 -0.270351   0.104976 -0.065106   \n",
       "BHK_NO.                     0.040712  0.014581   0.068730  0.046930   \n",
       "SQUARE_FT                   0.004204  0.001732  -0.012591  0.000803   \n",
       "READY_TO_MOVE               1.000000  0.347405  -0.006440  0.000381   \n",
       "RESALE                      0.347405  1.000000   0.024038  0.014844   \n",
       "LONGITUDE                  -0.006440  0.024038   1.000000 -0.155062   \n",
       "LATITUDE                    0.000381  0.014844  -0.155062  1.000000   \n",
       "TARGET(PRICE_IN_LACS)      -0.055399 -0.207378  -0.031112 -0.017254   \n",
       "\n",
       "                       TARGET(PRICE_IN_LACS)  \n",
       "UNDER_CONSTRUCTION                  0.055399  \n",
       "RERA                                0.067636  \n",
       "BHK_NO.                             0.112283  \n",
       "SQUARE_FT                           0.402685  \n",
       "READY_TO_MOVE                      -0.055399  \n",
       "RESALE                             -0.207378  \n",
       "LONGITUDE                          -0.031112  \n",
       "LATITUDE                           -0.017254  \n",
       "TARGET(PRICE_IN_LACS)               1.000000  "
      ]
     },
     "execution_count": 5,
     "metadata": {},
     "output_type": "execute_result"
    }
   ],
   "source": [
    "data.corr()"
   ]
  },
  {
   "cell_type": "code",
   "execution_count": 6,
   "id": "0054a215",
   "metadata": {},
   "outputs": [
    {
     "data": {
      "text/plain": [
       "POSTED_BY                0\n",
       "UNDER_CONSTRUCTION       0\n",
       "RERA                     0\n",
       "BHK_NO.                  0\n",
       "BHK_OR_RK                0\n",
       "SQUARE_FT                0\n",
       "READY_TO_MOVE            0\n",
       "RESALE                   0\n",
       "ADDRESS                  0\n",
       "LONGITUDE                0\n",
       "LATITUDE                 0\n",
       "TARGET(PRICE_IN_LACS)    0\n",
       "dtype: int64"
      ]
     },
     "execution_count": 6,
     "metadata": {},
     "output_type": "execute_result"
    }
   ],
   "source": [
    "data.isnull().sum()"
   ]
  },
  {
   "cell_type": "markdown",
   "id": "ec3c7af4",
   "metadata": {},
   "source": [
    "There is no Null data"
   ]
  },
  {
   "cell_type": "code",
   "execution_count": 7,
   "id": "421445ef",
   "metadata": {},
   "outputs": [
    {
     "data": {
      "text/plain": [
       "POSTED_BY                 object\n",
       "UNDER_CONSTRUCTION         int64\n",
       "RERA                       int64\n",
       "BHK_NO.                    int64\n",
       "BHK_OR_RK                 object\n",
       "SQUARE_FT                float64\n",
       "READY_TO_MOVE              int64\n",
       "RESALE                     int64\n",
       "ADDRESS                   object\n",
       "LONGITUDE                float64\n",
       "LATITUDE                 float64\n",
       "TARGET(PRICE_IN_LACS)    float64\n",
       "dtype: object"
      ]
     },
     "execution_count": 7,
     "metadata": {},
     "output_type": "execute_result"
    }
   ],
   "source": [
    "data.dtypes"
   ]
  },
  {
   "cell_type": "markdown",
   "id": "5ff2bc46",
   "metadata": {},
   "source": [
    "# Exploratory Data Analysis"
   ]
  },
  {
   "cell_type": "code",
   "execution_count": 8,
   "id": "5006cc66",
   "metadata": {},
   "outputs": [
    {
     "data": {
      "image/png": "[encoded data removed]",
      "text/plain": [
       "<Figure size 432x432 with 1 Axes>"
      ]
     },
     "metadata": {
      "needs_background": "light"
     },
     "output_type": "display_data"
    }
   ],
   "source": [
    "plt.subplots(figsize = (6,6))\n",
    "sns.histplot(data, x = 'UNDER_CONSTRUCTION')\n",
    "plt.show()"
   ]
  },
  {
   "cell_type": "markdown",
   "id": "01cd6d50",
   "metadata": {},
   "source": [
    "So , Under Construction houses are less "
   ]
  },
  {
   "cell_type": "markdown",
   "id": "7a220059",
   "metadata": {},
   "source": []
  },
  {
   "cell_type": "code",
   "execution_count": 9,
   "id": "a68b16d9",
   "metadata": {},
   "outputs": [
    {
     "data": {
      "image/png": "[encoded data removed]",
      "text/plain": [
       "<Figure size 432x576 with 1 Axes>"
      ]
     },
     "metadata": {
      "needs_background": "light"
     },
     "output_type": "display_data"
    }
   ],
   "source": [
    "plt.subplots(figsize = (6,8))\n",
    "sns.histplot(data,x='BHK_NO.')\n",
    "plt.show()"
   ]
  },
  {
   "cell_type": "code",
   "execution_count": 10,
   "id": "9e94c94f",
   "metadata": {},
   "outputs": [
    {
     "data": {
      "image/png": "[encoded data removed]",
      "text/plain": [
       "<Figure size 1440x360 with 1 Axes>"
      ]
     },
     "metadata": {
      "needs_background": "light"
     },
     "output_type": "display_data"
    }
   ],
   "source": [
    "plt.figure(figsize=(20 ,5))\n",
    "data.ADDRESS = data.ADDRESS.apply(lambda x: x.split(',')[-1])\n",
    "data.ADDRESS.value_counts()[:20].plot(kind='bar')\n",
    "plt.show()"
   ]
  },
  {
   "cell_type": "code",
   "execution_count": 40,
   "id": "b232df7c",
   "metadata": {},
   "outputs": [
    {
     "data": {
      "image/png": "[encoded data removed]",
      "text/plain": [
       "<Figure size 432x432 with 1 Axes>"
      ]
     },
     "metadata": {
      "needs_background": "light"
     },
     "output_type": "display_data"
    }
   ],
   "source": [
    "plt.subplots(figsize=(6,6))\n",
    "sns.histplot(data=data,x='POSTED_BY')\n",
    "plt.show()"
   ]
  },
  {
   "cell_type": "markdown",
   "id": "e85fa033",
   "metadata": {},
   "source": [
    "Most of the people sell their property with the help of dealer"
   ]
  },
  {
   "cell_type": "markdown",
   "id": "a5f53a61",
   "metadata": {},
   "source": [
    "Banglore has the most properties"
   ]
  },
  {
   "cell_type": "code",
   "execution_count": 18,
   "id": "a000cc5a",
   "metadata": {},
   "outputs": [
    {
     "data": {
      "image/png": "[encoded data removed]",
      "text/plain": [
       "<Figure size 432x432 with 1 Axes>"
      ]
     },
     "metadata": {
      "needs_background": "light"
     },
     "output_type": "display_data"
    }
   ],
   "source": [
    "plt.subplots(figsize=(6,6))\n",
    "sns.histplot(data=data,x='RESALE')\n",
    "plt.show()"
   ]
  },
  {
   "cell_type": "markdown",
   "id": "a2a16061",
   "metadata": {},
   "source": [
    "Most of the properties are old."
   ]
  },
  {
   "cell_type": "code",
   "execution_count": 35,
   "id": "efd121e0",
   "metadata": {},
   "outputs": [
    {
     "data": {
      "image/png": "[encoded data removed]",
      "text/plain": [
       "<Figure size 432x432 with 1 Axes>"
      ]
     },
     "metadata": {
      "needs_background": "light"
     },
     "output_type": "display_data"
    }
   ],
   "source": [
    "plt.subplots(figsize=(6,6))\n",
    "sns.countplot(data=data,x='BHK_NO.')\n",
    "plt.show()"
   ]
  },
  {
   "cell_type": "markdown",
   "id": "98822821",
   "metadata": {},
   "source": [
    "Most of the properties are of 2bhk"
   ]
  },
  {
   "cell_type": "code",
   "execution_count": 36,
   "id": "60d6c1b0",
   "metadata": {},
   "outputs": [
    {
     "data": {
      "image/png": "[encoded data removed]",
      "text/plain": [
       "<Figure size 432x432 with 1 Axes>"
      ]
     },
     "metadata": {
      "needs_background": "light"
     },
     "output_type": "display_data"
    }
   ],
   "source": [
    "plt.subplots(figsize=(6,6))\n",
    "sns.scatterplot(x='BHK_NO.',y='TARGET(PRICE_IN_LACS)',data=data)\n",
    "plt.show()"
   ]
  },
  {
   "cell_type": "code",
   "execution_count": 37,
   "id": "612fc027",
   "metadata": {},
   "outputs": [
    {
     "data": {
      "text/html": [
       "<div>\n",
       "<style scoped>\n",
       "    .dataframe tbody tr th:only-of-type {\n",
       "        vertical-align: middle;\n",
       "    }\n",
       "\n",
       "    .dataframe tbody tr th {\n",
       "        vertical-align: top;\n",
       "    }\n",
       "\n",
       "    .dataframe thead th {\n",
       "        text-align: right;\n",
       "    }\n",
       "</style>\n",
       "<table border=\"1\" class=\"dataframe\">\n",
       "  <thead>\n",
       "    <tr style=\"text-align: right;\">\n",
       "      <th></th>\n",
       "      <th>UNDER_CONSTRUCTION</th>\n",
       "      <th>RERA</th>\n",
       "      <th>BHK_NO.</th>\n",
       "      <th>SQUARE_FT</th>\n",
       "      <th>READY_TO_MOVE</th>\n",
       "      <th>RESALE</th>\n",
       "      <th>LONGITUDE</th>\n",
       "      <th>LATITUDE</th>\n",
       "      <th>TARGET(PRICE_IN_LACS)</th>\n",
       "    </tr>\n",
       "  </thead>\n",
       "  <tbody>\n",
       "    <tr>\n",
       "      <th>UNDER_CONSTRUCTION</th>\n",
       "      <td>1.000000</td>\n",
       "      <td>0.363826</td>\n",
       "      <td>-0.040712</td>\n",
       "      <td>-0.004204</td>\n",
       "      <td>-1.000000</td>\n",
       "      <td>-0.347405</td>\n",
       "      <td>0.006440</td>\n",
       "      <td>-0.000381</td>\n",
       "      <td>0.055399</td>\n",
       "    </tr>\n",
       "    <tr>\n",
       "      <th>RERA</th>\n",
       "      <td>0.363826</td>\n",
       "      <td>1.000000</td>\n",
       "      <td>0.009547</td>\n",
       "      <td>-0.006229</td>\n",
       "      <td>-0.363826</td>\n",
       "      <td>-0.270351</td>\n",
       "      <td>0.104976</td>\n",
       "      <td>-0.065106</td>\n",
       "      <td>0.067636</td>\n",
       "    </tr>\n",
       "    <tr>\n",
       "      <th>BHK_NO.</th>\n",
       "      <td>-0.040712</td>\n",
       "      <td>0.009547</td>\n",
       "      <td>1.000000</td>\n",
       "      <td>0.005303</td>\n",
       "      <td>0.040712</td>\n",
       "      <td>0.014581</td>\n",
       "      <td>0.068730</td>\n",
       "      <td>0.046930</td>\n",
       "      <td>0.112283</td>\n",
       "    </tr>\n",
       "    <tr>\n",
       "      <th>SQUARE_FT</th>\n",
       "      <td>-0.004204</td>\n",
       "      <td>-0.006229</td>\n",
       "      <td>0.005303</td>\n",
       "      <td>1.000000</td>\n",
       "      <td>0.004204</td>\n",
       "      <td>0.001732</td>\n",
       "      <td>-0.012591</td>\n",
       "      <td>0.000803</td>\n",
       "      <td>0.402685</td>\n",
       "    </tr>\n",
       "    <tr>\n",
       "      <th>READY_TO_MOVE</th>\n",
       "      <td>-1.000000</td>\n",
       "      <td>-0.363826</td>\n",
       "      <td>0.040712</td>\n",
       "      <td>0.004204</td>\n",
       "      <td>1.000000</td>\n",
       "      <td>0.347405</td>\n",
       "      <td>-0.006440</td>\n",
       "      <td>0.000381</td>\n",
       "      <td>-0.055399</td>\n",
       "    </tr>\n",
       "    <tr>\n",
       "      <th>RESALE</th>\n",
       "      <td>-0.347405</td>\n",
       "      <td>-0.270351</td>\n",
       "      <td>0.014581</td>\n",
       "      <td>0.001732</td>\n",
       "      <td>0.347405</td>\n",
       "      <td>1.000000</td>\n",
       "      <td>0.024038</td>\n",
       "      <td>0.014844</td>\n",
       "      <td>-0.207378</td>\n",
       "    </tr>\n",
       "    <tr>\n",
       "      <th>LONGITUDE</th>\n",
       "      <td>0.006440</td>\n",
       "      <td>0.104976</td>\n",
       "      <td>0.068730</td>\n",
       "      <td>-0.012591</td>\n",
       "      <td>-0.006440</td>\n",
       "      <td>0.024038</td>\n",
       "      <td>1.000000</td>\n",
       "      <td>-0.155062</td>\n",
       "      <td>-0.031112</td>\n",
       "    </tr>\n",
       "    <tr>\n",
       "      <th>LATITUDE</th>\n",
       "      <td>-0.000381</td>\n",
       "      <td>-0.065106</td>\n",
       "      <td>0.046930</td>\n",
       "      <td>0.000803</td>\n",
       "      <td>0.000381</td>\n",
       "      <td>0.014844</td>\n",
       "      <td>-0.155062</td>\n",
       "      <td>1.000000</td>\n",
       "      <td>-0.017254</td>\n",
       "    </tr>\n",
       "    <tr>\n",
       "      <th>TARGET(PRICE_IN_LACS)</th>\n",
       "      <td>0.055399</td>\n",
       "      <td>0.067636</td>\n",
       "      <td>0.112283</td>\n",
       "      <td>0.402685</td>\n",
       "      <td>-0.055399</td>\n",
       "      <td>-0.207378</td>\n",
       "      <td>-0.031112</td>\n",
       "      <td>-0.017254</td>\n",
       "      <td>1.000000</td>\n",
       "    </tr>\n",
       "  </tbody>\n",
       "</table>\n",
       "</div>"
      ],
      "text/plain": [
       "                       UNDER_CONSTRUCTION      RERA   BHK_NO.  SQUARE_FT  \\\n",
       "UNDER_CONSTRUCTION               1.000000  0.363826 -0.040712  -0.004204   \n",
       "RERA                             0.363826  1.000000  0.009547  -0.006229   \n",
       "BHK_NO.                         -0.040712  0.009547  1.000000   0.005303   \n",
       "SQUARE_FT                       -0.004204 -0.006229  0.005303   1.000000   \n",
       "READY_TO_MOVE                   -1.000000 -0.363826  0.040712   0.004204   \n",
       "RESALE                          -0.347405 -0.270351  0.014581   0.001732   \n",
       "LONGITUDE                        0.006440  0.104976  0.068730  -0.012591   \n",
       "LATITUDE                        -0.000381 -0.065106  0.046930   0.000803   \n",
       "TARGET(PRICE_IN_LACS)            0.055399  0.067636  0.112283   0.402685   \n",
       "\n",
       "                       READY_TO_MOVE    RESALE  LONGITUDE  LATITUDE  \\\n",
       "UNDER_CONSTRUCTION         -1.000000 -0.347405   0.006440 -0.000381   \n",
       "RERA                       -0.363826 -0.270351   0.104976 -0.065106   \n",
       "BHK_NO.                     0.040712  0.014581   0.068730  0.046930   \n",
       "SQUARE_FT                   0.004204  0.001732  -0.012591  0.000803   \n",
       "READY_TO_MOVE               1.000000  0.347405  -0.006440  0.000381   \n",
       "RESALE                      0.347405  1.000000   0.024038  0.014844   \n",
       "LONGITUDE                  -0.006440  0.024038   1.000000 -0.155062   \n",
       "LATITUDE                    0.000381  0.014844  -0.155062  1.000000   \n",
       "TARGET(PRICE_IN_LACS)      -0.055399 -0.207378  -0.031112 -0.017254   \n",
       "\n",
       "                       TARGET(PRICE_IN_LACS)  \n",
       "UNDER_CONSTRUCTION                  0.055399  \n",
       "RERA                                0.067636  \n",
       "BHK_NO.                             0.112283  \n",
       "SQUARE_FT                           0.402685  \n",
       "READY_TO_MOVE                      -0.055399  \n",
       "RESALE                             -0.207378  \n",
       "LONGITUDE                          -0.031112  \n",
       "LATITUDE                           -0.017254  \n",
       "TARGET(PRICE_IN_LACS)               1.000000  "
      ]
     },
     "execution_count": 37,
     "metadata": {},
     "output_type": "execute_result"
    }
   ],
   "source": [
    "data.corr()"
   ]
  },
  {
   "cell_type": "markdown",
   "id": "e99df82c",
   "metadata": {},
   "source": [
    "Linear Regression"
   ]
  },
  {
   "cell_type": "markdown",
   "id": "673cbc07",
   "metadata": {},
   "source": [
    "Setting Target and Source"
   ]
  },
  {
   "cell_type": "code",
   "execution_count": 51,
   "id": "7fcb85ba",
   "metadata": {},
   "outputs": [
    {
     "data": {
      "text/plain": [
       "POSTED_BY                 object\n",
       "UNDER_CONSTRUCTION         int64\n",
       "RERA                       int64\n",
       "BHK_NO.                    int64\n",
       "BHK_OR_RK                 object\n",
       "SQUARE_FT                float64\n",
       "READY_TO_MOVE              int64\n",
       "RESALE                     int64\n",
       "ADDRESS                   object\n",
       "LONGITUDE                float64\n",
       "LATITUDE                 float64\n",
       "TARGET(PRICE_IN_LACS)    float64\n",
       "dtype: object"
      ]
     },
     "execution_count": 51,
     "metadata": {},
     "output_type": "execute_result"
    }
   ],
   "source": [
    "data.dtypes"
   ]
  },
  {
   "cell_type": "code",
   "execution_count": 41,
   "id": "8f8a91e7",
   "metadata": {},
   "outputs": [],
   "source": [
    "y = data['TARGET(PRICE_IN_LACS)']"
   ]
  },
  {
   "cell_type": "code",
   "execution_count": 54,
   "id": "d0e38bd0",
   "metadata": {},
   "outputs": [],
   "source": [
    "x = data.drop(columns=['TARGET(PRICE_IN_LACS)','ADDRESS','POSTED_BY','BHK_OR_RK'])"
   ]
  },
  {
   "cell_type": "markdown",
   "id": "ff1578f0",
   "metadata": {},
   "source": [
    "Scaling Data"
   ]
  },
  {
   "cell_type": "code",
   "execution_count": 56,
   "id": "8b400f33",
   "metadata": {},
   "outputs": [],
   "source": [
    "scaledX = scale.fit_transform(x)"
   ]
  },
  {
   "cell_type": "markdown",
   "id": "51ac87ee",
   "metadata": {},
   "source": [
    "Train Test Split"
   ]
  },
  {
   "cell_type": "code",
   "execution_count": 57,
   "id": "c9d56586",
   "metadata": {},
   "outputs": [],
   "source": [
    "train_x , test_x , train_y , test_y = train_test_split(x, y,test_size=0.3, random_state=42)"
   ]
  },
  {
   "cell_type": "markdown",
   "id": "8f5a1f3e",
   "metadata": {},
   "source": [
    "Linear Regression"
   ]
  },
  {
   "cell_type": "code",
   "execution_count": 58,
   "id": "d2dc9a8d",
   "metadata": {},
   "outputs": [],
   "source": [
    "reg = linear_model.LinearRegression()"
   ]
  },
  {
   "cell_type": "code",
   "execution_count": 59,
   "id": "e2c5d9f3",
   "metadata": {},
   "outputs": [
    {
     "data": {
      "text/plain": [
       "LinearRegression()"
      ]
     },
     "execution_count": 59,
     "metadata": {},
     "output_type": "execute_result"
    }
   ],
   "source": [
    "reg.fit(train_x,train_y)"
   ]
  },
  {
   "cell_type": "code",
   "execution_count": 60,
   "id": "be10d144",
   "metadata": {},
   "outputs": [
    {
     "data": {
      "text/plain": [
       "array([-1.18645981e+01,  2.49909328e+01,  8.66209823e+01,  1.10568213e-04,\n",
       "        1.18645981e+01, -5.60086042e+02, -3.50267378e+00, -1.40811485e+00])"
      ]
     },
     "execution_count": 60,
     "metadata": {},
     "output_type": "execute_result"
    }
   ],
   "source": [
    "reg.coef_"
   ]
  },
  {
   "cell_type": "code",
   "execution_count": 62,
   "id": "261facd9",
   "metadata": {},
   "outputs": [
    {
     "data": {
      "text/plain": [
       "622.8682101305653"
      ]
     },
     "execution_count": 62,
     "metadata": {},
     "output_type": "execute_result"
    }
   ],
   "source": [
    "reg.intercept_"
   ]
  },
  {
   "cell_type": "code",
   "execution_count": 63,
   "id": "fecc7064",
   "metadata": {},
   "outputs": [
    {
     "data": {
      "text/plain": [
       "0.15838540109148636"
      ]
     },
     "execution_count": 63,
     "metadata": {},
     "output_type": "execute_result"
    }
   ],
   "source": [
    "reg.score(train_x,train_y)"
   ]
  },
  {
   "cell_type": "code",
   "execution_count": 64,
   "id": "0a7d5040",
   "metadata": {},
   "outputs": [
    {
     "data": {
      "text/plain": [
       "0.32730101771092146"
      ]
     },
     "execution_count": 64,
     "metadata": {},
     "output_type": "execute_result"
    }
   ],
   "source": [
    "reg.score(test_x,test_y)"
   ]
  },
  {
   "cell_type": "markdown",
   "id": "431305d2",
   "metadata": {},
   "source": [
    "Loading Test Data"
   ]
  },
  {
   "cell_type": "code",
   "execution_count": 65,
   "id": "27fc5a16",
   "metadata": {},
   "outputs": [],
   "source": [
    "testData = pd.read_csv(\"test.csv\")"
   ]
  },
  {
   "cell_type": "code",
   "execution_count": 68,
   "id": "2f98c810",
   "metadata": {},
   "outputs": [],
   "source": [
    "testData = testData.drop(columns=['ADDRESS','POSTED_BY','BHK_OR_RK'])"
   ]
  },
  {
   "cell_type": "code",
   "execution_count": 69,
   "id": "1f23d979",
   "metadata": {},
   "outputs": [],
   "source": [
    "testData = scale.fit_transform(testData)"
   ]
  },
  {
   "cell_type": "code",
   "execution_count": 71,
   "id": "d19d2d7b",
   "metadata": {},
   "outputs": [],
   "source": [
    "Prediction = reg.predict(testData)"
   ]
  },
  {
   "cell_type": "code",
   "execution_count": 72,
   "id": "aa620a68",
   "metadata": {},
   "outputs": [
    {
     "data": {
      "text/plain": [
       "array([ 328.82951731, 2669.72606271,  426.11299863, ..., 2569.41372812,\n",
       "        430.46202887,  530.44158517])"
      ]
     },
     "execution_count": 72,
     "metadata": {},
     "output_type": "execute_result"
    }
   ],
   "source": [
    "Prediction"
   ]
  }
 ],
 "metadata": {
  "kernelspec": {
   "display_name": "Python 3",
   "language": "python",
   "name": "python3"
  },
  "language_info": {
   "codemirror_mode": {
    "name": "ipython",
    "version": 3
   },
   "file_extension": ".py",
   "mimetype": "text/x-python",
   "name": "python",
   "nbconvert_exporter": "python",
   "pygments_lexer": "ipython3",
   "version": "3.8.8"
  }
 },
 "nbformat": 4,
 "nbformat_minor": 5
}
